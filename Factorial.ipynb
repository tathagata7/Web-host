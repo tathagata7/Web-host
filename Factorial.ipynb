{
 "cells": [
  {
   "cell_type": "code",
   "execution_count": 4,
   "metadata": {},
   "outputs": [
    {
     "name": "stdout",
     "output_type": "stream",
     "text": [
      "Enter the starting value: 1\n",
      "Enter the end value: 5\n",
      "Factorial of number is:  1\n",
      "Factorial of number is:  2\n",
      "Factorial of number is:  6\n",
      "Factorial of number is:  24\n",
      "Factorial of number is:  120\n"
     ]
    }
   ],
   "source": [
    "#Factorial\n",
    "x=int(input(\"Enter the starting value: \"))\n",
    "y = int(input(\"Enter the end value: \"))\n",
    "fact = 1\n",
    "for i in range(x,y+1):\n",
    "    fact = fact*i\n",
    "    print(\"Factorial of number is: \", fact)\n",
    "\n"
   ]
  },
  {
   "cell_type": "code",
   "execution_count": null,
   "metadata": {},
   "outputs": [],
   "source": []
  },
  {
   "cell_type": "code",
   "execution_count": null,
   "metadata": {},
   "outputs": [],
   "source": []
  },
  {
   "cell_type": "code",
   "execution_count": null,
   "metadata": {},
   "outputs": [],
   "source": []
  }
 ],
 "metadata": {
  "kernelspec": {
   "display_name": "Python 3",
   "language": "python",
   "name": "python3"
  },
  "language_info": {
   "codemirror_mode": {
    "name": "ipython",
    "version": 3
   },
   "file_extension": ".py",
   "mimetype": "text/x-python",
   "name": "python",
   "nbconvert_exporter": "python",
   "pygments_lexer": "ipython3",
   "version": "3.7.6"
  }
 },
 "nbformat": 4,
 "nbformat_minor": 4
}
